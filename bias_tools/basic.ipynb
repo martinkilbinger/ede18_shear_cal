{
 "cells": [
  {
   "cell_type": "markdown",
   "metadata": {},
   "source": [
    "# Basic jupyter notebook for shear bias computations"
   ]
  },
  {
   "cell_type": "code",
   "execution_count": 85,
   "metadata": {
    "collapsed": true
   },
   "outputs": [],
   "source": [
    "%run python/simulations.py\n",
    "%run python/shapes.py\n",
    "%run python/misc.py"
   ]
  },
  {
   "cell_type": "code",
   "execution_count": 3,
   "metadata": {
    "collapsed": false
   },
   "outputs": [],
   "source": [
    "#% run python/data.py\n",
    "#download_HST_images()"
   ]
  },
  {
   "cell_type": "code",
   "execution_count": 47,
   "metadata": {
    "collapsed": true
   },
   "outputs": [],
   "source": [
    "# Small shear change for numerical derivative\n",
    "dg = 0.02"
   ]
  },
  {
   "cell_type": "code",
   "execution_count": 64,
   "metadata": {
    "collapsed": true
   },
   "outputs": [],
   "source": [
    "# List of signs for shear change\n",
    "# Four steps\n",
    "g_step_list = [(-1, 0), (0, -1), (1, 0), (0, 1)]\n",
    "\n",
    "# Three steps, requires randomly changing signs\n",
    "#g_step_list = [(-1, 0), (-1, 0), (1, 1)]"
   ]
  },
  {
   "cell_type": "code",
   "execution_count": 70,
   "metadata": {
    "collapsed": false
   },
   "outputs": [],
   "source": [
    "# List of shears\n",
    "g_list = {}\n",
    "for step in g_step_list:\n",
    "    g_list[step] = (step[0] * dg, step[1] * dg)"
   ]
  },
  {
   "cell_type": "code",
   "execution_count": 71,
   "metadata": {
    "collapsed": false
   },
   "outputs": [
    {
     "data": {
      "text/plain": [
       "{(-1, 0): (-0.02, 0.0),\n",
       " (0, -1): (0.0, -0.02),\n",
       " (0, 1): (0.0, 0.02),\n",
       " (1, 0): (0.02, 0.0)}"
      ]
     },
     "execution_count": 71,
     "metadata": {},
     "output_type": "execute_result"
    }
   ],
   "source": [
    "x = {}\n",
    "x[g_step_list[0]] = 1\n",
    "g_list"
   ]
  },
  {
   "cell_type": "markdown",
   "metadata": {},
   "source": [
    "### Galsim setup"
   ]
  },
  {
   "cell_type": "code",
   "execution_count": 32,
   "metadata": {
    "collapsed": true
   },
   "outputs": [],
   "source": [
    "# Files and directories\n",
    "galsim_config_fname     = 'csc_multishear.yaml'\n",
    "galsim_config_psf_fname = 'csc_psf.yaml'\n",
    "galsim_config_dir       = 'config/galsim'\n",
    "galsim_input_dir        = 'data/galsim/great3/control/space/constant'\n",
    "galsim_output_base_dir  = 'output/galsim'\n",
    "\n",
    "# Image sizes and numbers\n",
    "\n",
    "# Number of postage stamps is nxy_tiles^2\n",
    "nxy_tiles = 2\n",
    "#nxy_tiles = 100\n",
    "\n",
    "# Number of files with different constant shear and PSF\n",
    "nfiles    =  4\n",
    "#nfiles   = 200"
   ]
  },
  {
   "cell_type": "code",
   "execution_count": 18,
   "metadata": {
    "collapsed": true
   },
   "outputs": [],
   "source": [
    "# Set paths\n",
    "galsim_config_path     = '{}/{}'.format(galsim_config_dir, galsim_config_fname)\n",
    "galsim_config_psf_path = '{}/{}'.format(galsim_config_dir, galsim_config_psf_fname)"
   ]
  },
  {
   "cell_type": "markdown",
   "metadata": {},
   "source": [
    "### Create image simulations by calling galsim"
   ]
  },
  {
   "cell_type": "code",
   "execution_count": 46,
   "metadata": {
    "collapsed": false
   },
   "outputs": [
    {
     "name": "stdout",
     "output_type": "stream",
     "text": [
      "Running command: galsim config/galsim/csc_multishear.yaml gal.shear.g1=-0.02 gal.shear.g2=0.0 input.catalog.dir=data/galsim/great3/control/space/constant input.dict.dir=data/galsim/great3/control/space/constant output.dir=output/galsim/g1_-0.02_g2_0.0 output.nfiles=4 image.nx_tiles=2 image.ny_tiles=2\n",
      "Running command: galsim config/galsim/csc_multishear.yaml gal.shear.g1=0.0 gal.shear.g2=-0.02 input.catalog.dir=data/galsim/great3/control/space/constant input.dict.dir=data/galsim/great3/control/space/constant output.dir=output/galsim/g1_0.0_g2_-0.02 output.nfiles=4 image.nx_tiles=2 image.ny_tiles=2\n",
      "Running command: galsim config/galsim/csc_multishear.yaml gal.shear.g1=0.0 gal.shear.g2=0.0 input.catalog.dir=data/galsim/great3/control/space/constant input.dict.dir=data/galsim/great3/control/space/constant output.dir=output/galsim/g1_0.0_g2_0.0 output.nfiles=4 image.nx_tiles=2 image.ny_tiles=2\n",
      "Running command: galsim config/galsim/csc_multishear.yaml gal.shear.g1=0.02 gal.shear.g2=0.0 input.catalog.dir=data/galsim/great3/control/space/constant input.dict.dir=data/galsim/great3/control/space/constant output.dir=output/galsim/g1_0.02_g2_0.0 output.nfiles=4 image.nx_tiles=2 image.ny_tiles=2\n",
      "Running command: galsim config/galsim/csc_multishear.yaml gal.shear.g1=0.0 gal.shear.g2=0.02 input.catalog.dir=data/galsim/great3/control/space/constant input.dict.dir=data/galsim/great3/control/space/constant output.dir=output/galsim/g1_0.0_g2_0.02 output.nfiles=4 image.nx_tiles=2 image.ny_tiles=2\n",
      "Running command: galsim config/galsim/csc_psf.yaml input.catalog.dir=data/galsim/great3/control/space/constant input.dict.dir=data/galsim/great3/control/space/constant output.dir=output/galsim/psf output.nfiles=4\n"
     ]
    }
   ],
   "source": [
    "create_all_sims_great3(g_list, galsim_config_path, galsim_config_psf_path, galsim_input_dir, galsim_output_base_dir, nxy_tiles=nxy_tiles, nfiles=nfiles)"
   ]
  },
  {
   "cell_type": "markdown",
   "metadata": {},
   "source": [
    "### Measure shapes"
   ]
  },
  {
   "cell_type": "code",
   "execution_count": 45,
   "metadata": {
    "collapsed": false
   },
   "outputs": [
    {
     "name": "stdout",
     "output_type": "stream",
     "text": [
      "get_shapes -T -p output/galsim/psf/starfield_image-000-0.fits output/galsim/g1_-0.02_g2_0.0/image-000-0.fits > output/shapelens/g1_-0.02_g2_0.0\n",
      "get_shapes -T -p output/galsim/psf/starfield_image-000-0.fits output/galsim/g1_0.0_g2_-0.02/image-000-0.fits > output/shapelens/g1_0.0_g2_-0.02\n",
      "get_shapes -T -p output/galsim/psf/starfield_image-000-0.fits output/galsim/g1_0.0_g2_0.0/image-000-0.fits > output/shapelens/g1_0.0_g2_0.0\n",
      "get_shapes -T -p output/galsim/psf/starfield_image-000-0.fits output/galsim/g1_0.02_g2_0.0/image-000-0.fits > output/shapelens/g1_0.02_g2_0.0\n",
      "get_shapes -T -p output/galsim/psf/starfield_image-000-0.fits output/galsim/g1_0.0_g2_0.02/image-000-0.fits > output/shapelens/g1_0.0_g2_0.02\n",
      "get_shapes -T -p output/galsim/psf/starfield_image-001-0.fits output/galsim/g1_-0.02_g2_0.0/image-001-0.fits > output/shapelens/g1_-0.02_g2_0.0\n",
      "get_shapes -T -p output/galsim/psf/starfield_image-001-0.fits output/galsim/g1_0.0_g2_-0.02/image-001-0.fits > output/shapelens/g1_0.0_g2_-0.02\n",
      "get_shapes -T -p output/galsim/psf/starfield_image-001-0.fits output/galsim/g1_0.0_g2_0.0/image-001-0.fits > output/shapelens/g1_0.0_g2_0.0\n",
      "get_shapes -T -p output/galsim/psf/starfield_image-001-0.fits output/galsim/g1_0.02_g2_0.0/image-001-0.fits > output/shapelens/g1_0.02_g2_0.0\n",
      "get_shapes -T -p output/galsim/psf/starfield_image-001-0.fits output/galsim/g1_0.0_g2_0.02/image-001-0.fits > output/shapelens/g1_0.0_g2_0.02\n",
      "get_shapes -T -p output/galsim/psf/starfield_image-002-0.fits output/galsim/g1_-0.02_g2_0.0/image-002-0.fits > output/shapelens/g1_-0.02_g2_0.0\n",
      "get_shapes -T -p output/galsim/psf/starfield_image-002-0.fits output/galsim/g1_0.0_g2_-0.02/image-002-0.fits > output/shapelens/g1_0.0_g2_-0.02\n",
      "get_shapes -T -p output/galsim/psf/starfield_image-002-0.fits output/galsim/g1_0.0_g2_0.0/image-002-0.fits > output/shapelens/g1_0.0_g2_0.0\n",
      "get_shapes -T -p output/galsim/psf/starfield_image-002-0.fits output/galsim/g1_0.02_g2_0.0/image-002-0.fits > output/shapelens/g1_0.02_g2_0.0\n",
      "get_shapes -T -p output/galsim/psf/starfield_image-002-0.fits output/galsim/g1_0.0_g2_0.02/image-002-0.fits > output/shapelens/g1_0.0_g2_0.02\n",
      "get_shapes -T -p output/galsim/psf/starfield_image-003-0.fits output/galsim/g1_-0.02_g2_0.0/image-003-0.fits > output/shapelens/g1_-0.02_g2_0.0\n",
      "get_shapes -T -p output/galsim/psf/starfield_image-003-0.fits output/galsim/g1_0.0_g2_-0.02/image-003-0.fits > output/shapelens/g1_0.0_g2_-0.02\n",
      "get_shapes -T -p output/galsim/psf/starfield_image-003-0.fits output/galsim/g1_0.0_g2_0.0/image-003-0.fits > output/shapelens/g1_0.0_g2_0.0\n",
      "get_shapes -T -p output/galsim/psf/starfield_image-003-0.fits output/galsim/g1_0.02_g2_0.0/image-003-0.fits > output/shapelens/g1_0.02_g2_0.0\n",
      "get_shapes -T -p output/galsim/psf/starfield_image-003-0.fits output/galsim/g1_0.0_g2_0.02/image-003-0.fits > output/shapelens/g1_0.0_g2_0.02\n"
     ]
    }
   ],
   "source": [
    "ksb_input_base_dir  = galsim_output_base_dir\n",
    "ksb_output_base_dir = 'output/shapelens'\n",
    "all_shapes_shapelens(g_list, ksb_input_base_dir, ksb_output_base_dir, nfiles)"
   ]
  },
  {
   "cell_type": "markdown",
   "metadata": {},
   "source": [
    "### Get shear estimate results"
   ]
  },
  {
   "cell_type": "code",
   "execution_count": 86,
   "metadata": {
    "collapsed": false
   },
   "outputs": [],
   "source": [
    "import glob\n",
    "psf_path = '{}/psf'.format(galsim_output_base_dir)\n",
    "results = {}\n",
    "for step in g_step_list:\n",
    "    input_dir = '{}/{}'.format(ksb_output_base_dir, get_dir_name_shear(g_list[step]))\n",
    "    files     = glob.glob('{}/results*.txt'.format(input_dir))\n",
    "    results[step] = get_ksb(files, psf_path)"
   ]
  },
  {
   "cell_type": "code",
   "execution_count": 98,
   "metadata": {
    "collapsed": false
   },
   "outputs": [],
   "source": [
    "R_output_dir = 'output/R'\n",
    "#R = shear_response(results, dg, output_dir=R_output_dir)"
   ]
  },
  {
   "cell_type": "code",
   "execution_count": 96,
   "metadata": {
    "collapsed": false
   },
   "outputs": [
    {
     "data": {
      "text/plain": [
       "array([[0., 0.],\n",
       "       [0., 0.]])"
      ]
     },
     "execution_count": 96,
     "metadata": {},
     "output_type": "execute_result"
    }
   ],
   "source": [
    "np.zeros((2,2))"
   ]
  },
  {
   "cell_type": "code",
   "execution_count": 97,
   "metadata": {
    "collapsed": false
   },
   "outputs": [
    {
     "data": {
      "text/plain": [
       "{(-1, 0): (array([], dtype=float64),\n",
       "  array([], dtype=float64),\n",
       "  array([], dtype=float64),\n",
       "  array([], dtype=float64),\n",
       "  array([], dtype=float64),\n",
       "  array([], dtype=float64),\n",
       "  array([], dtype=float64),\n",
       "  [],\n",
       "  []),\n",
       " (0, -1): (array([], dtype=float64),\n",
       "  array([], dtype=float64),\n",
       "  array([], dtype=float64),\n",
       "  array([], dtype=float64),\n",
       "  array([], dtype=float64),\n",
       "  array([], dtype=float64),\n",
       "  array([], dtype=float64),\n",
       "  [],\n",
       "  []),\n",
       " (0, 1): (array([], dtype=float64),\n",
       "  array([], dtype=float64),\n",
       "  array([], dtype=float64),\n",
       "  array([], dtype=float64),\n",
       "  array([], dtype=float64),\n",
       "  array([], dtype=float64),\n",
       "  array([], dtype=float64),\n",
       "  [],\n",
       "  []),\n",
       " (1, 0): (array([], dtype=float64),\n",
       "  array([], dtype=float64),\n",
       "  array([], dtype=float64),\n",
       "  array([], dtype=float64),\n",
       "  array([], dtype=float64),\n",
       "  array([], dtype=float64),\n",
       "  array([], dtype=float64),\n",
       "  [],\n",
       "  [])}"
      ]
     },
     "execution_count": 97,
     "metadata": {},
     "output_type": "execute_result"
    }
   ],
   "source": [
    "results"
   ]
  },
  {
   "cell_type": "code",
   "execution_count": null,
   "metadata": {
    "collapsed": true
   },
   "outputs": [],
   "source": []
  }
 ],
 "metadata": {
  "kernelspec": {
   "display_name": "Python 2",
   "language": "python",
   "name": "python2"
  },
  "language_info": {
   "codemirror_mode": {
    "name": "ipython",
    "version": 2
   },
   "file_extension": ".py",
   "mimetype": "text/x-python",
   "name": "python",
   "nbconvert_exporter": "python",
   "pygments_lexer": "ipython2",
   "version": "2.7.10"
  }
 },
 "nbformat": 4,
 "nbformat_minor": 0
}
