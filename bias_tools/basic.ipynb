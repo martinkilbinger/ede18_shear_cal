{
 "cells": [
  {
   "cell_type": "markdown",
   "metadata": {},
   "source": [
    "# Basic jupyter notebook for shear bias computations"
   ]
  },
  {
   "cell_type": "code",
   "execution_count": 48,
   "metadata": {},
   "outputs": [],
   "source": [
    "%run python/misc.py\n",
    "%run python/simulations.py\n",
    "%run python/shapes.py"
   ]
  },
  {
   "cell_type": "code",
   "execution_count": 49,
   "metadata": {},
   "outputs": [],
   "source": [
    "#% run python/data.py\n",
    "#download_HST_images()"
   ]
  },
  {
   "cell_type": "code",
   "execution_count": 67,
   "metadata": {},
   "outputs": [],
   "source": [
    "# Job control:\n",
    "job = misc.param()\n",
    "\n",
    "# Re-run job if output file already exists?\n",
    "job.re_run = False\n",
    "\n",
    "# Set dry_run to True for test run\n",
    "job.dry_run = True"
   ]
  },
  {
   "cell_type": "code",
   "execution_count": 63,
   "metadata": {},
   "outputs": [],
   "source": [
    "# Small shear change for numerical derivative\n",
    "dg = 0.02"
   ]
  },
  {
   "cell_type": "code",
   "execution_count": 64,
   "metadata": {},
   "outputs": [],
   "source": [
    "# List of signs for shear change\n",
    "# Four steps\n",
    "g_steps = [(-1, 0), (0, -1), (1, 0), (0, 1)]\n",
    "\n",
    "# Three steps, requires randomly changing signs\n",
    "#g_step_list = [(-1, 0), (0, -1), (1, 1)]"
   ]
  },
  {
   "cell_type": "code",
   "execution_count": 65,
   "metadata": {},
   "outputs": [],
   "source": [
    "# Dictionary and list of shears\n",
    "g_dict = {}\n",
    "for step in g_steps:\n",
    "    g_dict[step] = (step[0] * dg, step[1] * dg)\n",
    "g_values = g_dict.values()"
   ]
  },
  {
   "cell_type": "markdown",
   "metadata": {},
   "source": [
    "### Galsim setup"
   ]
  },
  {
   "cell_type": "code",
   "execution_count": 66,
   "metadata": {},
   "outputs": [],
   "source": [
    "# Files and directories\n",
    "galsim_config_fname     = 'csc_multishear.yaml'\n",
    "galsim_config_psf_fname = 'csc_psf.yaml'\n",
    "galsim_config_dir       = 'config/galsim'\n",
    "galsim_input_dir        = 'data/galsim/great3/control/space/constant'\n",
    "galsim_output_base_dir  = 'output/galsim'\n",
    "\n",
    "# Image sizes and numbers\n",
    "\n",
    "# Number of postage stamps is nxy_tiles^2\n",
    "nxy_tiles = 2\n",
    "#nxy_tiles = 100\n",
    "\n",
    "# Number of files with different constant shear and PSF\n",
    "nfiles    =  4\n",
    "#nfiles   = 200"
   ]
  },
  {
   "cell_type": "code",
   "execution_count": 68,
   "metadata": {},
   "outputs": [],
   "source": [
    "# Set paths\n",
    "galsim_config_path     = '{}/{}'.format(galsim_config_dir, galsim_config_fname)\n",
    "galsim_config_psf_path = '{}/{}'.format(galsim_config_dir, galsim_config_psf_fname)"
   ]
  },
  {
   "cell_type": "markdown",
   "metadata": {},
   "source": [
    "### Create image simulations by calling galsim"
   ]
  },
  {
   "cell_type": "code",
   "execution_count": 69,
   "metadata": {},
   "outputs": [],
   "source": [
    "# TODO: Only run if output file does not exist\n",
    "create_all_sims_great3(g_values, galsim_config_path, galsim_config_psf_path, galsim_input_dir, galsim_output_base_dir, nxy_tiles=nxy_tiles, nfiles=nfiles, job=job)"
   ]
  },
  {
   "cell_type": "markdown",
   "metadata": {},
   "source": [
    "### Measure shapes"
   ]
  },
  {
   "cell_type": "code",
   "execution_count": 70,
   "metadata": {},
   "outputs": [],
   "source": [
    "ksb_input_base_dir  = galsim_output_base_dir\n",
    "ksb_output_base_dir = 'output/shapelens'\n",
    "all_shapes_shapelens(g_values, ksb_input_base_dir, ksb_output_base_dir, nfiles, job=job)"
   ]
  },
  {
   "cell_type": "markdown",
   "metadata": {},
   "source": [
    "### Get shear estimate results"
   ]
  },
  {
   "cell_type": "code",
   "execution_count": 86,
   "metadata": {},
   "outputs": [],
   "source": [
    "import glob\n",
    "psf_path = '{}/psf'.format(galsim_output_base_dir)\n",
    "results = {}\n",
    "for g in g_step_values:\n",
    "    input_dir = '{}/{}'.format(ksb_output_base_dir, get_dir_name_shear(g))\n",
    "    files     = glob.glob('{}/results*.txt'.format(input_dir))\n",
    "    results[step] = get_ksb(files, psf_path)"
   ]
  },
  {
   "cell_type": "code",
   "execution_count": 98,
   "metadata": {},
   "outputs": [],
   "source": [
    "R_output_dir = 'output/R'\n",
    "#R = shear_response(results, dg, output_dir=R_output_dir)"
   ]
  },
  {
   "cell_type": "code",
   "execution_count": null,
   "metadata": {
    "collapsed": true
   },
   "outputs": [],
   "source": []
  }
 ],
 "metadata": {
  "kernelspec": {
   "display_name": "Python 2",
   "language": "python",
   "name": "python2"
  },
  "language_info": {
   "codemirror_mode": {
    "name": "ipython",
    "version": 2
   },
   "file_extension": ".py",
   "mimetype": "text/x-python",
   "name": "python",
   "nbconvert_exporter": "python",
   "pygments_lexer": "ipython2",
   "version": "2.7.10"
  }
 },
 "nbformat": 4,
 "nbformat_minor": 1
}
