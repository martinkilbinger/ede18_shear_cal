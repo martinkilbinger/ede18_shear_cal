{
 "cells": [
  {
   "cell_type": "markdown",
   "metadata": {},
   "source": [
    "# Basic jupyter notebook for shear bias computations"
   ]
  },
  {
   "cell_type": "code",
   "execution_count": 19,
   "metadata": {},
   "outputs": [],
   "source": [
    "%run python/misc.py\n",
    "%run python/simulations.py\n",
    "%run python/shapes.py"
   ]
  },
  {
   "cell_type": "code",
   "execution_count": 2,
   "metadata": {},
   "outputs": [],
   "source": [
    "#% run python/data.py\n",
    "#download_HST_images()"
   ]
  },
  {
   "cell_type": "code",
   "execution_count": 3,
   "metadata": {},
   "outputs": [],
   "source": [
    "# Job control:\n",
    "job = misc.param()\n",
    "\n",
    "# Re-run job if output file already exists?\n",
    "job.re_run = False\n",
    "\n",
    "# Set dry_run to True for test run\n",
    "job.dry_run = False"
   ]
  },
  {
   "cell_type": "code",
   "execution_count": 4,
   "metadata": {},
   "outputs": [],
   "source": [
    "# Small shear change for numerical derivative\n",
    "dg = 0.02"
   ]
  },
  {
   "cell_type": "code",
   "execution_count": 5,
   "metadata": {},
   "outputs": [],
   "source": [
    "# List of signs for shear change\n",
    "# Four steps\n",
    "g_steps = [(-1, 0), (0, -1), (1, 0), (0, 1)]\n",
    "\n",
    "# Three steps, requires randomly changing signs\n",
    "#g_step_list = [(-1, 0), (0, -1), (1, 1)]"
   ]
  },
  {
   "cell_type": "code",
   "execution_count": 6,
   "metadata": {},
   "outputs": [],
   "source": [
    "# Dictionary and list of shears\n",
    "g_dict = {}\n",
    "for step in g_steps:\n",
    "    g_dict[step] = (step[0] * dg, step[1] * dg)\n",
    "g_values = g_dict.values()"
   ]
  },
  {
   "cell_type": "markdown",
   "metadata": {},
   "source": [
    "### Setup"
   ]
  },
  {
   "cell_type": "markdown",
   "metadata": {},
   "source": [
    "#### Image sizes and numbers"
   ]
  },
  {
   "cell_type": "code",
   "execution_count": 7,
   "metadata": {},
   "outputs": [],
   "source": [
    "# Number of postage stamps is nxy_tiles^2\n",
    "nxy_tiles = 2\n",
    "#nxy_tiles = 100\n",
    "\n",
    "# Number of files with different constant shear and PSF\n",
    "nfiles    =  4\n",
    "#nfiles   = 200"
   ]
  },
  {
   "cell_type": "markdown",
   "metadata": {},
   "source": [
    "#### Galsim"
   ]
  },
  {
   "cell_type": "code",
   "execution_count": 8,
   "metadata": {},
   "outputs": [],
   "source": [
    "# Files and directories\n",
    "galsim_config_fname     = 'csc_multishear.yaml'\n",
    "galsim_config_psf_fname = 'csc_psf.yaml'\n",
    "galsim_config_dir       = 'config/galsim'\n",
    "galsim_input_dir        = 'data/galsim/great3/control/space/constant'\n",
    "galsim_output_base_dir  = 'output/galsim'"
   ]
  },
  {
   "cell_type": "code",
   "execution_count": 9,
   "metadata": {},
   "outputs": [],
   "source": [
    "# Set paths\n",
    "galsim_config_path     = '{}/{}'.format(galsim_config_dir, galsim_config_fname)\n",
    "galsim_config_psf_path = '{}/{}'.format(galsim_config_dir, galsim_config_psf_fname)"
   ]
  },
  {
   "cell_type": "markdown",
   "metadata": {},
   "source": [
    "### Create image simulations by calling galsim"
   ]
  },
  {
   "cell_type": "code",
   "execution_count": null,
   "metadata": {},
   "outputs": [],
   "source": [
    "# TODO: Only run if output file does not exist\n",
    "create_all_sims_great3(g_values, galsim_config_path, galsim_config_psf_path, galsim_input_dir, galsim_output_base_dir, nxy_tiles=nxy_tiles, nfiles=nfiles, job=job)"
   ]
  },
  {
   "cell_type": "markdown",
   "metadata": {},
   "source": [
    "### Measure shapes"
   ]
  },
  {
   "cell_type": "code",
   "execution_count": 10,
   "metadata": {},
   "outputs": [
    {
     "name": "stdout",
     "output_type": "stream",
     "text": [
      "*** Start all_shapes_shapelens ***\n",
      "keeping existing file output/shapelens/g1_0.0_g2_0.02/result-000.txt, not running get_shapes -T -g 2 -p output/galsim/psf/starfield_image-000-0.fits output/galsim/g1_0.0_g2_0.02/image-000-0.fits > output/shapelens/g1_0.0_g2_0.02/result-000.txt\n",
      "keeping existing file output/shapelens/g1_0.0_g2_-0.02/result-000.txt, not running get_shapes -T -g 2 -p output/galsim/psf/starfield_image-000-0.fits output/galsim/g1_0.0_g2_-0.02/image-000-0.fits > output/shapelens/g1_0.0_g2_-0.02/result-000.txt\n",
      "keeping existing file output/shapelens/g1_0.02_g2_0.0/result-000.txt, not running get_shapes -T -g 2 -p output/galsim/psf/starfield_image-000-0.fits output/galsim/g1_0.02_g2_0.0/image-000-0.fits > output/shapelens/g1_0.02_g2_0.0/result-000.txt\n",
      "keeping existing file output/shapelens/g1_-0.02_g2_0.0/result-000.txt, not running get_shapes -T -g 2 -p output/galsim/psf/starfield_image-000-0.fits output/galsim/g1_-0.02_g2_0.0/image-000-0.fits > output/shapelens/g1_-0.02_g2_0.0/result-000.txt\n",
      "keeping existing file output/shapelens/g1_0.0_g2_0.02/result-001.txt, not running get_shapes -T -g 2 -p output/galsim/psf/starfield_image-001-0.fits output/galsim/g1_0.0_g2_0.02/image-001-0.fits > output/shapelens/g1_0.0_g2_0.02/result-001.txt\n",
      "keeping existing file output/shapelens/g1_0.0_g2_-0.02/result-001.txt, not running get_shapes -T -g 2 -p output/galsim/psf/starfield_image-001-0.fits output/galsim/g1_0.0_g2_-0.02/image-001-0.fits > output/shapelens/g1_0.0_g2_-0.02/result-001.txt\n",
      "keeping existing file output/shapelens/g1_0.02_g2_0.0/result-001.txt, not running get_shapes -T -g 2 -p output/galsim/psf/starfield_image-001-0.fits output/galsim/g1_0.02_g2_0.0/image-001-0.fits > output/shapelens/g1_0.02_g2_0.0/result-001.txt\n",
      "keeping existing file output/shapelens/g1_-0.02_g2_0.0/result-001.txt, not running get_shapes -T -g 2 -p output/galsim/psf/starfield_image-001-0.fits output/galsim/g1_-0.02_g2_0.0/image-001-0.fits > output/shapelens/g1_-0.02_g2_0.0/result-001.txt\n",
      "keeping existing file output/shapelens/g1_0.0_g2_0.02/result-002.txt, not running get_shapes -T -g 2 -p output/galsim/psf/starfield_image-002-0.fits output/galsim/g1_0.0_g2_0.02/image-002-0.fits > output/shapelens/g1_0.0_g2_0.02/result-002.txt\n",
      "keeping existing file output/shapelens/g1_0.0_g2_-0.02/result-002.txt, not running get_shapes -T -g 2 -p output/galsim/psf/starfield_image-002-0.fits output/galsim/g1_0.0_g2_-0.02/image-002-0.fits > output/shapelens/g1_0.0_g2_-0.02/result-002.txt\n",
      "keeping existing file output/shapelens/g1_0.02_g2_0.0/result-002.txt, not running get_shapes -T -g 2 -p output/galsim/psf/starfield_image-002-0.fits output/galsim/g1_0.02_g2_0.0/image-002-0.fits > output/shapelens/g1_0.02_g2_0.0/result-002.txt\n",
      "keeping existing file output/shapelens/g1_-0.02_g2_0.0/result-002.txt, not running get_shapes -T -g 2 -p output/galsim/psf/starfield_image-002-0.fits output/galsim/g1_-0.02_g2_0.0/image-002-0.fits > output/shapelens/g1_-0.02_g2_0.0/result-002.txt\n",
      "keeping existing file output/shapelens/g1_0.0_g2_0.02/result-003.txt, not running get_shapes -T -g 2 -p output/galsim/psf/starfield_image-003-0.fits output/galsim/g1_0.0_g2_0.02/image-003-0.fits > output/shapelens/g1_0.0_g2_0.02/result-003.txt\n",
      "keeping existing file output/shapelens/g1_0.0_g2_-0.02/result-003.txt, not running get_shapes -T -g 2 -p output/galsim/psf/starfield_image-003-0.fits output/galsim/g1_0.0_g2_-0.02/image-003-0.fits > output/shapelens/g1_0.0_g2_-0.02/result-003.txt\n",
      "keeping existing file output/shapelens/g1_0.02_g2_0.0/result-003.txt, not running get_shapes -T -g 2 -p output/galsim/psf/starfield_image-003-0.fits output/galsim/g1_0.02_g2_0.0/image-003-0.fits > output/shapelens/g1_0.02_g2_0.0/result-003.txt\n",
      "keeping existing file output/shapelens/g1_-0.02_g2_0.0/result-003.txt, not running get_shapes -T -g 2 -p output/galsim/psf/starfield_image-003-0.fits output/galsim/g1_-0.02_g2_0.0/image-003-0.fits > output/shapelens/g1_-0.02_g2_0.0/result-003.txt\n",
      "*** End all_shapes_shapelens ***\n"
     ]
    }
   ],
   "source": [
    "ksb_input_base_dir  = galsim_output_base_dir\n",
    "ksb_output_base_dir = 'output/shapelens'\n",
    "all_shapes_shapelens(g_values, ksb_input_base_dir, ksb_output_base_dir, nfiles, nxy_tiles, job=job)"
   ]
  },
  {
   "cell_type": "markdown",
   "metadata": {},
   "source": [
    "### Get shear estimate results"
   ]
  },
  {
   "cell_type": "code",
   "execution_count": 20,
   "metadata": {},
   "outputs": [
    {
     "name": "stdout",
     "output_type": "stream",
     "text": [
      "*** Start all_read_shapelens v0.2 ***\n",
      "File output/shapelens/g1_0.0_g2_0.02/result-000.txt, data dim (4, 5)\n",
      "File output/shapelens/g1_0.0_g2_0.02/result-001.txt, data dim (4, 5)\n",
      "File output/shapelens/g1_0.0_g2_0.02/result-002.txt, data dim (4, 5)\n",
      "File output/shapelens/g1_0.0_g2_0.02/result-003.txt, data dim (4, 5)\n"
     ]
    },
    {
     "ename": "NameError",
     "evalue": "global name 'step' is not defined",
     "output_type": "error",
     "traceback": [
      "\u001b[0;31m---------------------------------------------------------------------------\u001b[0m",
      "\u001b[0;31mNameError\u001b[0m                                 Traceback (most recent call last)",
      "\u001b[0;32m<ipython-input-20-304e53a98381>\u001b[0m in \u001b[0;36m<module>\u001b[0;34m()\u001b[0m\n\u001b[1;32m      1\u001b[0m \u001b[0mresults_input_base_dir\u001b[0m  \u001b[0;34m=\u001b[0m \u001b[0mksb_output_base_dir\u001b[0m\u001b[0;34m\u001b[0m\u001b[0m\n\u001b[1;32m      2\u001b[0m \u001b[0mpsf_input_dir\u001b[0m           \u001b[0;34m=\u001b[0m \u001b[0;34m'{}/psf/'\u001b[0m\u001b[0;34m.\u001b[0m\u001b[0mformat\u001b[0m\u001b[0;34m(\u001b[0m\u001b[0mgalsim_output_base_dir\u001b[0m\u001b[0;34m)\u001b[0m\u001b[0;34m\u001b[0m\u001b[0m\n\u001b[0;32m----> 3\u001b[0;31m \u001b[0mresults\u001b[0m \u001b[0;34m=\u001b[0m \u001b[0mall_read_shapelens\u001b[0m\u001b[0;34m(\u001b[0m\u001b[0mg_values\u001b[0m\u001b[0;34m,\u001b[0m \u001b[0mresults_input_base_dir\u001b[0m\u001b[0;34m,\u001b[0m \u001b[0mpsf_input_dir\u001b[0m\u001b[0;34m,\u001b[0m \u001b[0mnfiles\u001b[0m\u001b[0;34m)\u001b[0m\u001b[0;34m\u001b[0m\u001b[0m\n\u001b[0m",
      "\u001b[0;32m/Users/mkilbing/astro/TR18_shear_cal/ede18_shear_cal/bias_tools/python/shapes.py\u001b[0m in \u001b[0;36mall_read_shapelens\u001b[0;34m(g_values, input_base_dir, psf_path, nfiles)\u001b[0m\n\u001b[1;32m    194\u001b[0m \u001b[0;34m\u001b[0m\u001b[0m\n\u001b[1;32m    195\u001b[0m         results[step] = gal_par(final_gal_id, final_e1, final_e2, out_scale, \\\n\u001b[0;32m--> 196\u001b[0;31m                 out_sn, out_beta, out_q, final_ep, final_ex)\n\u001b[0m\u001b[1;32m    197\u001b[0m \u001b[0;34m\u001b[0m\u001b[0m\n\u001b[1;32m    198\u001b[0m     \u001b[0;32mprint\u001b[0m\u001b[0;34m(\u001b[0m\u001b[0;34m'*** End all_read_shapelens ***'\u001b[0m\u001b[0;34m)\u001b[0m\u001b[0;34m\u001b[0m\u001b[0m\n",
      "\u001b[0;31mNameError\u001b[0m: global name 'step' is not defined"
     ]
    }
   ],
   "source": [
    "results_input_base_dir  = ksb_output_base_dir\n",
    "psf_input_dir           = '{}/psf/'.format(galsim_output_base_dir)\n",
    "results = all_read_shapelens(g_values, results_input_base_dir, psf_input_dir, nfiles)"
   ]
  },
  {
   "cell_type": "code",
   "execution_count": 14,
   "metadata": {},
   "outputs": [
    {
     "ename": "NameError",
     "evalue": "name 'results' is not defined",
     "output_type": "error",
     "traceback": [
      "\u001b[0;31m---------------------------------------------------------------------------\u001b[0m",
      "\u001b[0;31mNameError\u001b[0m                                 Traceback (most recent call last)",
      "\u001b[0;32m<ipython-input-14-609403003784>\u001b[0m in \u001b[0;36m<module>\u001b[0;34m()\u001b[0m\n\u001b[0;32m----> 1\u001b[0;31m \u001b[0mresults\u001b[0m\u001b[0;34m[\u001b[0m\u001b[0;34m(\u001b[0m\u001b[0;34m-\u001b[0m\u001b[0;36m1\u001b[0m\u001b[0;34m,\u001b[0m\u001b[0;36m0\u001b[0m\u001b[0;34m)\u001b[0m\u001b[0;34m]\u001b[0m\u001b[0;34m.\u001b[0m\u001b[0me1\u001b[0m\u001b[0;34m\u001b[0m\u001b[0m\n\u001b[0m",
      "\u001b[0;31mNameError\u001b[0m: name 'results' is not defined"
     ]
    }
   ],
   "source": [
    "results[(-1,0)].e1"
   ]
  },
  {
   "cell_type": "code",
   "execution_count": null,
   "metadata": {},
   "outputs": [],
   "source": [
    "R_output_dir = 'output/R'\n",
    "R = shear_response(results, dg, output_dir=R_output_dir)"
   ]
  },
  {
   "cell_type": "code",
   "execution_count": null,
   "metadata": {},
   "outputs": [],
   "source": [
    "len(results[(+1, 0)].e1)"
   ]
  },
  {
   "cell_type": "code",
   "execution_count": null,
   "metadata": {},
   "outputs": [],
   "source": []
  }
 ],
 "metadata": {
  "kernelspec": {
   "display_name": "Python 2",
   "language": "python",
   "name": "python2"
  },
  "language_info": {
   "codemirror_mode": {
    "name": "ipython",
    "version": 2
   },
   "file_extension": ".py",
   "mimetype": "text/x-python",
   "name": "python",
   "nbconvert_exporter": "python",
   "pygments_lexer": "ipython2",
   "version": "2.7.10"
  }
 },
 "nbformat": 4,
 "nbformat_minor": 1
}
