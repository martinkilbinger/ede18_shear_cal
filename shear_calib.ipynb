{
 "cells": [
  {
   "cell_type": "code",
   "execution_count": 18,
   "metadata": {},
   "outputs": [],
   "source": [
    "import numpy as np\n",
    "import os\n",
    "import shutil"
   ]
  },
  {
   "cell_type": "code",
   "execution_count": 2,
   "metadata": {},
   "outputs": [],
   "source": [
    "from urllib.request import urlretrieve"
   ]
  },
  {
   "cell_type": "markdown",
   "metadata": {},
   "source": [
    "## Load required data files"
   ]
  },
  {
   "cell_type": "code",
   "execution_count": 4,
   "metadata": {},
   "outputs": [],
   "source": [
    "data_dir = 'data'"
   ]
  },
  {
   "cell_type": "code",
   "execution_count": 7,
   "metadata": {},
   "outputs": [],
   "source": [
    "url = 'https://github.com/GalSim-developers/GalSim/tree/releases/2.0/examples/data'"
   ]
  },
  {
   "cell_type": "code",
   "execution_count": 20,
   "metadata": {},
   "outputs": [],
   "source": [
    "data_files = ['real_galaxy_catalog_23.5_example.fits', \\\n",
    "              'acs_I_unrot_sci_20_cf.fits', \\\n",
    "              'real_galaxy_images.fits', \\\n",
    "              'real_galaxy_PSF_images.fits']"
   ]
  },
  {
   "cell_type": "code",
   "execution_count": 22,
   "metadata": {},
   "outputs": [
    {
     "name": "stdout",
     "output_type": "stream",
     "text": [
      "Downloading data file data/real_galaxy_catalog_23.5_example.fits.\n",
      "Downloading data file data/acs_I_unrot_sci_20_cf.fits.\n",
      "Downloading data file data/real_galaxy_images.fits.\n",
      "Downloading data file data/real_galaxy_PSF_images.fits.\n"
     ]
    }
   ],
   "source": [
    "for d in data_files:\n",
    "    target = '{}/{}'.format(data_dir, d)\n",
    "    if os.path.isfile(target):\n",
    "        print('Data file {} already exists, skipping...'.format(target))\n",
    "    else:\n",
    "        print('Downloading data file {}.'.format(target))\n",
    "        urlretrieve(url, d)\n",
    "        shutil.move(d, target)"
   ]
  },
  {
   "cell_type": "code",
   "execution_count": null,
   "metadata": {},
   "outputs": [],
   "source": []
  }
 ],
 "metadata": {
  "kernelspec": {
   "display_name": "Python 3",
   "language": "python",
   "name": "python3"
  },
  "language_info": {
   "codemirror_mode": {
    "name": "ipython",
    "version": 3
   },
   "file_extension": ".py",
   "mimetype": "text/x-python",
   "name": "python",
   "nbconvert_exporter": "python",
   "pygments_lexer": "ipython3",
   "version": "3.6.5"
  }
 },
 "nbformat": 4,
 "nbformat_minor": 2
}
